{
 "cells": [
  {
   "cell_type": "markdown",
   "metadata": {},
   "source": [
    "## Boulder Watershed data accumulation:\n",
    "\n",
    "This is a snippet to collect the ICEsat-2 data from the Boulder Watershed, processed to a variety of length scales, and to save them to local files.  "
   ]
  },
  {
   "cell_type": "code",
   "execution_count": null,
   "metadata": {},
   "outputs": [],
   "source": [
    "import sys\n",
    "import logging\n",
    "import pandas as pd\n",
    "import numpy as np\n",
    "import matplotlib.pyplot as plt\n",
    "import cartopy\n",
    "import time\n",
    "from sliderule import icesat2\n",
    "#import pointCollection as pc"
   ]
  },
  {
   "cell_type": "code",
   "execution_count": null,
   "metadata": {},
   "outputs": [],
   "source": [
    "# Configure Logging\n",
    "icesat2_logger = logging.getLogger(\"sliderule.icesat2\")\n",
    "icesat2_logger.setLevel(logging.CRITICAL)\n",
    "# Create Console Output\n",
    "ch = logging.StreamHandler()\n",
    "ch.setLevel(logging.INFO)\n",
    "icesat2_logger.addHandler(ch)"
   ]
  },
  {
   "cell_type": "code",
   "execution_count": null,
   "metadata": {},
   "outputs": [],
   "source": [
    "# Configure ICESat-2 API\n",
    "icesat2.init(\"icesat2sliderule.org\", False)\n",
    "# Configure Region of Interest\n",
    "region = [ {\"lon\":-105.82971551223244, \"lat\": 39.81983728534918},\n",
    "           {\"lon\":-105.30742121965137, \"lat\": 39.81983728534918},\n",
    "           {\"lon\":-105.30742121965137, \"lat\": 40.164048017973755},\n",
    "           {\"lon\":-105.82971551223244, \"lat\": 40.164048017973755},\n",
    "           {\"lon\":-105.82971551223244, \"lat\": 39.81983728534918} ]"
   ]
  },
  {
   "cell_type": "code",
   "execution_count": null,
   "metadata": {},
   "outputs": [],
   "source": [
    "# note that this can be run with 'srt':icesat2.SRT_LAND to use the land classification\n",
    "\n",
    "for L in [5, 10, 20, 40 ,80]:\n",
    "    for conf in [icesat2.CNF_SURFACE_LOW, icesat2.CNF_SURFACE_MEDIUM, icesat2.CNF_SURFACE_HIGH]:\n",
    "        # Build ATL06 Request\n",
    "        parms = {\n",
    "            \"poly\": region,\n",
    "            \"srt\": icesat2.SRT_LAND_ICE,\n",
    "            \"cnf\": conf,\n",
    "            \"ats\": L/4,\n",
    "            \"cnt\": 10,\n",
    "            \"len\": L,\n",
    "            \"res\": 20.0,\n",
    "            \"maxi\": 10\n",
    "        }\n",
    "        out_file='Boulder_ice_cnf%d_L%d.h5' %(conf, L)\n",
    "        print(out_file)\n",
    "        # Request ATL06 Data\n",
    "        rsps = icesat2.atl06p(parms, \"atlas-s3\")\n",
    "        # save the output:\n",
    "        pc.data().from_dict({field:np.array(rsps[field]) for field in rsps.keys() if field != '__rectype'}).to_h5(out_file)\n",
    "        "
   ]
  }
 ],
 "metadata": {
  "kernelspec": {
   "display_name": "Python 3",
   "language": "python",
   "name": "python3"
  },
  "language_info": {
   "codemirror_mode": {
    "name": "ipython",
    "version": 3
   },
   "file_extension": ".py",
   "mimetype": "text/x-python",
   "name": "python",
   "nbconvert_exporter": "python",
   "pygments_lexer": "ipython3",
   "version": "3.8.6"
  }
 },
 "nbformat": 4,
 "nbformat_minor": 4
}
